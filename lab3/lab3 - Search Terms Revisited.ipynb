{
 "cells": [
  {
   "cell_type": "markdown",
   "metadata": {},
   "source": [
    "# LAB 3 - Search Terms Revisited"
   ]
  },
  {
   "cell_type": "code",
   "execution_count": 1,
   "metadata": {},
   "outputs": [],
   "source": [
    "import pandas as pd\n",
    "import re\n",
    "import numpy as np"
   ]
  },
  {
   "cell_type": "markdown",
   "metadata": {},
   "source": [
    "## Opening the .CSV file"
   ]
  },
  {
   "cell_type": "code",
   "execution_count": 2,
   "metadata": {},
   "outputs": [
    {
     "name": "stdout",
     "output_type": "stream",
     "text": [
      "Printing first 100 search terms to see what it looks like:\n",
      " ['36969', 'CMED 500100', 'KEND 5750', 'CMED 980228', 'DYNC1815H', 'DYND70642', 'DEES KC-21400', 'LINK PC1000', '7081714', 'KEND 8507SA', 'KEND 8881-892910', 'bacon', 'pineapple', '5065265', 'enfit70550', 'cheese cheddar', '68010', '55507', '8116055', '2366607', 'buttermilk', '3009697', '4185775', '1953358', '2157315', '4782694', '6653558', '7062615', 'milk', 'chicken breast', 'DRIT 0028', '4944450', 'romain', 'banana', '16sl', 'URO51211CH', 'HUDS 00640', 'bacon', '7024755', '6056105', '6928832', 'name%20tags', '3029404', 'cut fruit', 'HUDS 003-40', 'milk', '4828182', '1448950', 'biscuit', '101460', '269110', '4549099', '5 way', '260119', '314828', '888340', '241571', 'milk', '101420', '272180', '596060', '4019139', 'GERI HCS4485', 'bacon', 'mash', 'liquid egg', '3602786', '1009711', 'wipes', 'DYND11756H', 'bacon', '4252104', '874302', '4066353', 'creamer', '3778925', '2105850', '3602976', '4908299', 'HUDS 1885', 'lettuce', 'apple sauce', '61390', 'cottage', '169897', '55535', 'milk', '504602', '7551324', '6374817', 'lactose milk', '1132050', '358608', '1158542', 'JUICE ORG', 'milk', 'biscuit', 'creamer', '373640', '1158542']\n"
     ]
    }
   ],
   "source": [
    "\"\"\"\n",
    "Opening the .csv file\n",
    "\"\"\"\n",
    "different_files = ['searchTerms.csv', '10xFileReal.csv', '100xFile.csv']\n",
    "search_terms = []\n",
    "with open(different_files[0], encoding='utf-8') as csv_file:\n",
    "    csv_file.readline()\n",
    "    for line in csv_file:\n",
    "        \n",
    "        line_contents = line.split(',')\n",
    "        \n",
    "        search_terms.append(line_contents[0])\n",
    "    print(f'Printing first 100 search terms to see what it looks like:\\n {search_terms[0:100]}')\n",
    "    \n",
    "    "
   ]
  },
  {
   "cell_type": "markdown",
   "metadata": {},
   "source": [
    "## Replacing bad tokens and fixing them using regex"
   ]
  },
  {
   "cell_type": "code",
   "execution_count": 3,
   "metadata": {},
   "outputs": [],
   "source": [
    "def clean_token(token):\n",
    "    \"\"\"\n",
    "    Replace '%20' with a \" \"\n",
    "    Param: dirty token with '%20'\n",
    "    Return: Clean token without \"%20\"\n",
    "    \"\"\"\n",
    "    token = token.replace('%20', ' ')\n",
    "    return token"
   ]
  },
  {
   "cell_type": "code",
   "execution_count": 4,
   "metadata": {},
   "outputs": [],
   "source": [
    "bad = '%20'\n",
    "for i in range(len(search_terms)):\n",
    "    search_terms[i] = search_terms[i].lower()\n",
    "    if bad in search_terms[i]:\n",
    "        search_terms[i] = clean_token(search_terms[i])"
   ]
  },
  {
   "cell_type": "markdown",
   "metadata": {},
   "source": [
    "## Removing spaces from the list"
   ]
  },
  {
   "cell_type": "code",
   "execution_count": 5,
   "metadata": {},
   "outputs": [],
   "source": [
    "def remove_spaces(search_terms):\n",
    "    \"\"\"\n",
    "    The new and improved function that doesn't care about memory,\n",
    "    because it is cool\n",
    "    \"\"\"\n",
    "    space = ' '\n",
    "    new_search_terms = []\n",
    "    for i in range(len(search_terms)):\n",
    "        if space in search_terms[i]:\n",
    "            terms = search_terms[i].split(' ')\n",
    "            for term in terms:\n",
    "                new_search_terms.append(term)\n",
    "        else:\n",
    "            new_search_terms.append(search_terms[i])\n",
    "    return new_search_terms"
   ]
  },
  {
   "cell_type": "code",
   "execution_count": 6,
   "metadata": {},
   "outputs": [],
   "source": [
    "search_terms = remove_spaces(search_terms)"
   ]
  },
  {
   "cell_type": "markdown",
   "metadata": {},
   "source": [
    "## Making a dataframe with the semi cleaned list"
   ]
  },
  {
   "cell_type": "code",
   "execution_count": 7,
   "metadata": {},
   "outputs": [],
   "source": [
    "search_terms_df = pd.DataFrame(search_terms, columns=['SEARCH_TERMS'])"
   ]
  },
  {
   "cell_type": "code",
   "execution_count": 8,
   "metadata": {},
   "outputs": [
    {
     "data": {
      "text/html": [
       "<div>\n",
       "<style scoped>\n",
       "    .dataframe tbody tr th:only-of-type {\n",
       "        vertical-align: middle;\n",
       "    }\n",
       "\n",
       "    .dataframe tbody tr th {\n",
       "        vertical-align: top;\n",
       "    }\n",
       "\n",
       "    .dataframe thead th {\n",
       "        text-align: right;\n",
       "    }\n",
       "</style>\n",
       "<table border=\"1\" class=\"dataframe\">\n",
       "  <thead>\n",
       "    <tr style=\"text-align: right;\">\n",
       "      <th></th>\n",
       "      <th>SEARCH_TERMS</th>\n",
       "    </tr>\n",
       "  </thead>\n",
       "  <tbody>\n",
       "    <tr>\n",
       "      <th>0</th>\n",
       "      <td>36969</td>\n",
       "    </tr>\n",
       "    <tr>\n",
       "      <th>1</th>\n",
       "      <td>cmed</td>\n",
       "    </tr>\n",
       "    <tr>\n",
       "      <th>2</th>\n",
       "      <td>500100</td>\n",
       "    </tr>\n",
       "    <tr>\n",
       "      <th>3</th>\n",
       "      <td>kend</td>\n",
       "    </tr>\n",
       "    <tr>\n",
       "      <th>4</th>\n",
       "      <td>5750</td>\n",
       "    </tr>\n",
       "  </tbody>\n",
       "</table>\n",
       "</div>"
      ],
      "text/plain": [
       "  SEARCH_TERMS\n",
       "0        36969\n",
       "1         cmed\n",
       "2       500100\n",
       "3         kend\n",
       "4         5750"
      ]
     },
     "execution_count": 8,
     "metadata": {},
     "output_type": "execute_result"
    }
   ],
   "source": [
    "search_terms_df.head()"
   ]
  },
  {
   "cell_type": "markdown",
   "metadata": {},
   "source": [
    "## Removing number and punctuation functions to be used by pandas apply method"
   ]
  },
  {
   "cell_type": "code",
   "execution_count": 9,
   "metadata": {},
   "outputs": [],
   "source": [
    "def remove_numbers(token):\n",
    "    \"\"\"\n",
    "    param: dirty token\n",
    "    return: clean token without numbers\n",
    "    \"\"\"\n",
    "    token = re.sub(r'[0-9]+', '', token)\n",
    "    \n",
    "    return token"
   ]
  },
  {
   "cell_type": "code",
   "execution_count": 10,
   "metadata": {},
   "outputs": [],
   "source": [
    "def remove_punct(token):\n",
    "    \"\"\"\n",
    "    param: dirty token\n",
    "    return: clean token with no punctuation\n",
    "    \"\"\"\n",
    "    token = re.sub(r'[^\\w\\s]', '', token)\n",
    "    \n",
    "    return token"
   ]
  },
  {
   "cell_type": "markdown",
   "metadata": {},
   "source": [
    "## Applying the previous methods to the dataframe creating new columns for each"
   ]
  },
  {
   "cell_type": "code",
   "execution_count": 11,
   "metadata": {
    "scrolled": true
   },
   "outputs": [],
   "source": [
    "search_terms_df['NO_NUMS'] = search_terms_df['SEARCH_TERMS'].apply(remove_numbers)\n"
   ]
  },
  {
   "cell_type": "code",
   "execution_count": 12,
   "metadata": {},
   "outputs": [],
   "source": [
    "search_terms_df['NO_PUNCT'] = search_terms_df['NO_NUMS'].apply(remove_punct)"
   ]
  },
  {
   "cell_type": "code",
   "execution_count": 13,
   "metadata": {},
   "outputs": [
    {
     "data": {
      "text/html": [
       "<div>\n",
       "<style scoped>\n",
       "    .dataframe tbody tr th:only-of-type {\n",
       "        vertical-align: middle;\n",
       "    }\n",
       "\n",
       "    .dataframe tbody tr th {\n",
       "        vertical-align: top;\n",
       "    }\n",
       "\n",
       "    .dataframe thead th {\n",
       "        text-align: right;\n",
       "    }\n",
       "</style>\n",
       "<table border=\"1\" class=\"dataframe\">\n",
       "  <thead>\n",
       "    <tr style=\"text-align: right;\">\n",
       "      <th></th>\n",
       "      <th>SEARCH_TERMS</th>\n",
       "      <th>NO_NUMS</th>\n",
       "      <th>NO_PUNCT</th>\n",
       "    </tr>\n",
       "  </thead>\n",
       "  <tbody>\n",
       "    <tr>\n",
       "      <th>0</th>\n",
       "      <td>36969</td>\n",
       "      <td></td>\n",
       "      <td></td>\n",
       "    </tr>\n",
       "    <tr>\n",
       "      <th>1</th>\n",
       "      <td>cmed</td>\n",
       "      <td>cmed</td>\n",
       "      <td>cmed</td>\n",
       "    </tr>\n",
       "    <tr>\n",
       "      <th>2</th>\n",
       "      <td>500100</td>\n",
       "      <td></td>\n",
       "      <td></td>\n",
       "    </tr>\n",
       "    <tr>\n",
       "      <th>3</th>\n",
       "      <td>kend</td>\n",
       "      <td>kend</td>\n",
       "      <td>kend</td>\n",
       "    </tr>\n",
       "    <tr>\n",
       "      <th>4</th>\n",
       "      <td>5750</td>\n",
       "      <td></td>\n",
       "      <td></td>\n",
       "    </tr>\n",
       "    <tr>\n",
       "      <th>5</th>\n",
       "      <td>cmed</td>\n",
       "      <td>cmed</td>\n",
       "      <td>cmed</td>\n",
       "    </tr>\n",
       "    <tr>\n",
       "      <th>6</th>\n",
       "      <td>980228</td>\n",
       "      <td></td>\n",
       "      <td></td>\n",
       "    </tr>\n",
       "    <tr>\n",
       "      <th>7</th>\n",
       "      <td>dync1815h</td>\n",
       "      <td>dynch</td>\n",
       "      <td>dynch</td>\n",
       "    </tr>\n",
       "    <tr>\n",
       "      <th>8</th>\n",
       "      <td>dynd70642</td>\n",
       "      <td>dynd</td>\n",
       "      <td>dynd</td>\n",
       "    </tr>\n",
       "    <tr>\n",
       "      <th>9</th>\n",
       "      <td>dees</td>\n",
       "      <td>dees</td>\n",
       "      <td>dees</td>\n",
       "    </tr>\n",
       "  </tbody>\n",
       "</table>\n",
       "</div>"
      ],
      "text/plain": [
       "  SEARCH_TERMS NO_NUMS NO_PUNCT\n",
       "0        36969                 \n",
       "1         cmed    cmed     cmed\n",
       "2       500100                 \n",
       "3         kend    kend     kend\n",
       "4         5750                 \n",
       "5         cmed    cmed     cmed\n",
       "6       980228                 \n",
       "7    dync1815h   dynch    dynch\n",
       "8    dynd70642    dynd     dynd\n",
       "9         dees    dees     dees"
      ]
     },
     "execution_count": 13,
     "metadata": {},
     "output_type": "execute_result"
    }
   ],
   "source": [
    "search_terms_df.head(10)"
   ]
  },
  {
   "cell_type": "markdown",
   "metadata": {},
   "source": [
    "## Making the spellcheck dictionary"
   ]
  },
  {
   "cell_type": "code",
   "execution_count": 14,
   "metadata": {},
   "outputs": [
    {
     "name": "stdout",
     "output_type": "stream",
     "text": [
      "CPU times: user 2.87 s, sys: 652 ms, total: 3.52 s\n",
      "Wall time: 3.57 s\n"
     ]
    }
   ],
   "source": [
    "%%time\n",
    "from spellchecker import SpellChecker\n",
    "import pattern.en\n",
    "def spell_check_dictionary(NO_PUNCT):  \n",
    "    \"\"\"\n",
    "    Making the spell check dictionary\n",
    "    Param: a dictionary to start with misspelled keys\n",
    "    return spell check dictionary  \n",
    "    key(misspelled word) \n",
    "    value(correct word)\n",
    "    \"\"\"\n",
    "    spell_check_dict = {}\n",
    "    spell = SpellChecker(language='en', distance=1)\n",
    "    #Distance if it is more than one than it doesn't finish in under 10 minutes\n",
    "    #I get bored and cancel it\n",
    "    # find those words that may be misspelled\n",
    "    misspelled = spell.unknown(NO_PUNCT)\n",
    "    print(len(misspelled))\n",
    "\n",
    "    for word in misspelled:\n",
    "        if word is not spell.correction(word):\n",
    "            spell_check_dict[word] = spell.correction(word)\n",
    "    \n",
    "    \n",
    "    \n",
    "    return spell_check_dict\n"
   ]
  },
  {
   "cell_type": "code",
   "execution_count": 15,
   "metadata": {},
   "outputs": [
    {
     "name": "stdout",
     "output_type": "stream",
     "text": [
      "7014\n"
     ]
    }
   ],
   "source": [
    "clean_list = search_terms_df['NO_PUNCT'].tolist()\n",
    "spell_check_dict = spell_check_dictionary(clean_list)\n"
   ]
  },
  {
   "cell_type": "markdown",
   "metadata": {},
   "source": [
    "## Making a spellchecker function for the pandas dataframe"
   ]
  },
  {
   "cell_type": "code",
   "execution_count": 16,
   "metadata": {},
   "outputs": [],
   "source": [
    "\n",
    "def spell_checker(token):\n",
    "    if token in spell_check_dict:\n",
    "        return spell_check_dict[token]\n",
    "    else:\n",
    "        return token"
   ]
  },
  {
   "cell_type": "code",
   "execution_count": 17,
   "metadata": {},
   "outputs": [
    {
     "data": {
      "text/html": [
       "<div>\n",
       "<style scoped>\n",
       "    .dataframe tbody tr th:only-of-type {\n",
       "        vertical-align: middle;\n",
       "    }\n",
       "\n",
       "    .dataframe tbody tr th {\n",
       "        vertical-align: top;\n",
       "    }\n",
       "\n",
       "    .dataframe thead th {\n",
       "        text-align: right;\n",
       "    }\n",
       "</style>\n",
       "<table border=\"1\" class=\"dataframe\">\n",
       "  <thead>\n",
       "    <tr style=\"text-align: right;\">\n",
       "      <th></th>\n",
       "      <th>SEARCH_TERMS</th>\n",
       "      <th>NO_NUMS</th>\n",
       "      <th>NO_PUNCT</th>\n",
       "      <th>Spell_checked</th>\n",
       "    </tr>\n",
       "  </thead>\n",
       "  <tbody>\n",
       "    <tr>\n",
       "      <th>0</th>\n",
       "      <td>36969</td>\n",
       "      <td></td>\n",
       "      <td></td>\n",
       "      <td>a</td>\n",
       "    </tr>\n",
       "    <tr>\n",
       "      <th>1</th>\n",
       "      <td>cmed</td>\n",
       "      <td>cmed</td>\n",
       "      <td>cmed</td>\n",
       "      <td>med</td>\n",
       "    </tr>\n",
       "    <tr>\n",
       "      <th>2</th>\n",
       "      <td>500100</td>\n",
       "      <td></td>\n",
       "      <td></td>\n",
       "      <td>a</td>\n",
       "    </tr>\n",
       "    <tr>\n",
       "      <th>3</th>\n",
       "      <td>kend</td>\n",
       "      <td>kend</td>\n",
       "      <td>kend</td>\n",
       "      <td>end</td>\n",
       "    </tr>\n",
       "    <tr>\n",
       "      <th>4</th>\n",
       "      <td>5750</td>\n",
       "      <td></td>\n",
       "      <td></td>\n",
       "      <td>a</td>\n",
       "    </tr>\n",
       "    <tr>\n",
       "      <th>5</th>\n",
       "      <td>cmed</td>\n",
       "      <td>cmed</td>\n",
       "      <td>cmed</td>\n",
       "      <td>med</td>\n",
       "    </tr>\n",
       "    <tr>\n",
       "      <th>6</th>\n",
       "      <td>980228</td>\n",
       "      <td></td>\n",
       "      <td></td>\n",
       "      <td>a</td>\n",
       "    </tr>\n",
       "    <tr>\n",
       "      <th>7</th>\n",
       "      <td>dync1815h</td>\n",
       "      <td>dynch</td>\n",
       "      <td>dynch</td>\n",
       "      <td>lynch</td>\n",
       "    </tr>\n",
       "    <tr>\n",
       "      <th>8</th>\n",
       "      <td>dynd70642</td>\n",
       "      <td>dynd</td>\n",
       "      <td>dynd</td>\n",
       "      <td>dyed</td>\n",
       "    </tr>\n",
       "    <tr>\n",
       "      <th>9</th>\n",
       "      <td>dees</td>\n",
       "      <td>dees</td>\n",
       "      <td>dees</td>\n",
       "      <td>dees</td>\n",
       "    </tr>\n",
       "    <tr>\n",
       "      <th>10</th>\n",
       "      <td>kc-21400</td>\n",
       "      <td>kc-</td>\n",
       "      <td>kc</td>\n",
       "      <td>kc</td>\n",
       "    </tr>\n",
       "    <tr>\n",
       "      <th>11</th>\n",
       "      <td>link</td>\n",
       "      <td>link</td>\n",
       "      <td>link</td>\n",
       "      <td>link</td>\n",
       "    </tr>\n",
       "    <tr>\n",
       "      <th>12</th>\n",
       "      <td>pc1000</td>\n",
       "      <td>pc</td>\n",
       "      <td>pc</td>\n",
       "      <td>pc</td>\n",
       "    </tr>\n",
       "    <tr>\n",
       "      <th>13</th>\n",
       "      <td>7081714</td>\n",
       "      <td></td>\n",
       "      <td></td>\n",
       "      <td>a</td>\n",
       "    </tr>\n",
       "    <tr>\n",
       "      <th>14</th>\n",
       "      <td>kend</td>\n",
       "      <td>kend</td>\n",
       "      <td>kend</td>\n",
       "      <td>end</td>\n",
       "    </tr>\n",
       "    <tr>\n",
       "      <th>15</th>\n",
       "      <td>8507sa</td>\n",
       "      <td>sa</td>\n",
       "      <td>sa</td>\n",
       "      <td>sa</td>\n",
       "    </tr>\n",
       "    <tr>\n",
       "      <th>16</th>\n",
       "      <td>kend</td>\n",
       "      <td>kend</td>\n",
       "      <td>kend</td>\n",
       "      <td>end</td>\n",
       "    </tr>\n",
       "    <tr>\n",
       "      <th>17</th>\n",
       "      <td>8881-892910</td>\n",
       "      <td>-</td>\n",
       "      <td></td>\n",
       "      <td>a</td>\n",
       "    </tr>\n",
       "    <tr>\n",
       "      <th>18</th>\n",
       "      <td>bacon</td>\n",
       "      <td>bacon</td>\n",
       "      <td>bacon</td>\n",
       "      <td>bacon</td>\n",
       "    </tr>\n",
       "    <tr>\n",
       "      <th>19</th>\n",
       "      <td>pineapple</td>\n",
       "      <td>pineapple</td>\n",
       "      <td>pineapple</td>\n",
       "      <td>pineapple</td>\n",
       "    </tr>\n",
       "    <tr>\n",
       "      <th>20</th>\n",
       "      <td>5065265</td>\n",
       "      <td></td>\n",
       "      <td></td>\n",
       "      <td>a</td>\n",
       "    </tr>\n",
       "    <tr>\n",
       "      <th>21</th>\n",
       "      <td>enfit70550</td>\n",
       "      <td>enfit</td>\n",
       "      <td>enfit</td>\n",
       "      <td>unfit</td>\n",
       "    </tr>\n",
       "    <tr>\n",
       "      <th>22</th>\n",
       "      <td>cheese</td>\n",
       "      <td>cheese</td>\n",
       "      <td>cheese</td>\n",
       "      <td>cheese</td>\n",
       "    </tr>\n",
       "    <tr>\n",
       "      <th>23</th>\n",
       "      <td>cheddar</td>\n",
       "      <td>cheddar</td>\n",
       "      <td>cheddar</td>\n",
       "      <td>cheddar</td>\n",
       "    </tr>\n",
       "    <tr>\n",
       "      <th>24</th>\n",
       "      <td>68010</td>\n",
       "      <td></td>\n",
       "      <td></td>\n",
       "      <td>a</td>\n",
       "    </tr>\n",
       "    <tr>\n",
       "      <th>25</th>\n",
       "      <td>55507</td>\n",
       "      <td></td>\n",
       "      <td></td>\n",
       "      <td>a</td>\n",
       "    </tr>\n",
       "    <tr>\n",
       "      <th>26</th>\n",
       "      <td>8116055</td>\n",
       "      <td></td>\n",
       "      <td></td>\n",
       "      <td>a</td>\n",
       "    </tr>\n",
       "    <tr>\n",
       "      <th>27</th>\n",
       "      <td>2366607</td>\n",
       "      <td></td>\n",
       "      <td></td>\n",
       "      <td>a</td>\n",
       "    </tr>\n",
       "    <tr>\n",
       "      <th>28</th>\n",
       "      <td>buttermilk</td>\n",
       "      <td>buttermilk</td>\n",
       "      <td>buttermilk</td>\n",
       "      <td>buttermilk</td>\n",
       "    </tr>\n",
       "    <tr>\n",
       "      <th>29</th>\n",
       "      <td>3009697</td>\n",
       "      <td></td>\n",
       "      <td></td>\n",
       "      <td>a</td>\n",
       "    </tr>\n",
       "  </tbody>\n",
       "</table>\n",
       "</div>"
      ],
      "text/plain": [
       "   SEARCH_TERMS     NO_NUMS    NO_PUNCT Spell_checked\n",
       "0         36969                                     a\n",
       "1          cmed        cmed        cmed           med\n",
       "2        500100                                     a\n",
       "3          kend        kend        kend           end\n",
       "4          5750                                     a\n",
       "5          cmed        cmed        cmed           med\n",
       "6        980228                                     a\n",
       "7     dync1815h       dynch       dynch         lynch\n",
       "8     dynd70642        dynd        dynd          dyed\n",
       "9          dees        dees        dees          dees\n",
       "10     kc-21400         kc-          kc            kc\n",
       "11         link        link        link          link\n",
       "12       pc1000          pc          pc            pc\n",
       "13      7081714                                     a\n",
       "14         kend        kend        kend           end\n",
       "15       8507sa          sa          sa            sa\n",
       "16         kend        kend        kend           end\n",
       "17  8881-892910           -                         a\n",
       "18        bacon       bacon       bacon         bacon\n",
       "19    pineapple   pineapple   pineapple     pineapple\n",
       "20      5065265                                     a\n",
       "21   enfit70550       enfit       enfit         unfit\n",
       "22       cheese      cheese      cheese        cheese\n",
       "23      cheddar     cheddar     cheddar       cheddar\n",
       "24        68010                                     a\n",
       "25        55507                                     a\n",
       "26      8116055                                     a\n",
       "27      2366607                                     a\n",
       "28   buttermilk  buttermilk  buttermilk    buttermilk\n",
       "29      3009697                                     a"
      ]
     },
     "execution_count": 17,
     "metadata": {},
     "output_type": "execute_result"
    }
   ],
   "source": [
    "search_terms_df[\"Spell_checked\"] = search_terms_df['NO_PUNCT'].apply(spell_checker)\n",
    "search_terms_df.head(30)"
   ]
  },
  {
   "cell_type": "markdown",
   "metadata": {},
   "source": [
    "## Spell checking the list now (yes, it takes three methods)"
   ]
  },
  {
   "cell_type": "code",
   "execution_count": 18,
   "metadata": {},
   "outputs": [
    {
     "name": "stdout",
     "output_type": "stream",
     "text": [
      "CPU times: user 2 µs, sys: 0 ns, total: 2 µs\n",
      "Wall time: 7.15 µs\n"
     ]
    }
   ],
   "source": [
    "%time\n",
    "def frequency_dict(search_terms):\n",
    "    \"\"\"\n",
    "    Parameter: list of searchterms\n",
    "    Return: Dictionary frequency number of words\n",
    "    Return key: words\n",
    "    Return values: number of times in list\n",
    "    \"\"\"\n",
    "    seen = set()\n",
    "    frequency_search_terms = {}\n",
    "    for i in range(len(search_terms)):\n",
    "        if search_terms[i] in seen:\n",
    "            frequency_search_terms[search_terms[i]] += 1\n",
    "        else:\n",
    "            frequency_search_terms[search_terms[i]] = 1\n",
    "            seen.add(search_terms[i])\n",
    "    \n",
    "    return frequency_search_terms"
   ]
  },
  {
   "cell_type": "code",
   "execution_count": 19,
   "metadata": {},
   "outputs": [],
   "source": [
    "def comparing_spellcheck_dict(sorted_dict):\n",
    "    \"\"\"\n",
    "    Fixing the dictionary and attributing wrong spelling values \n",
    "    to correct ones\n",
    "    param: sorted dictionary\n",
    "    return: correct dictionary without misspellings\n",
    "    \"\"\"\n",
    "    correct_token = ''\n",
    "    bad_keys = []\n",
    "    for key in sorted_dict:\n",
    "        if key in spell_check_dict:\n",
    "            \n",
    "            correct_token = spell_check_dict[key]\n",
    "            value = sorted_dict[key]\n",
    "            if correct_token in sorted_dict:\n",
    "                sorted_dict[correct_token] += value\n",
    "                bad_keys.append(key)\n",
    "            \n",
    "                \n",
    "    \n",
    "    for key in bad_keys:\n",
    "        sorted_dict.pop(key)\n",
    "    return sorted_dict\n"
   ]
  },
  {
   "cell_type": "code",
   "execution_count": 20,
   "metadata": {},
   "outputs": [],
   "source": [
    "def sorting_the_dict(frequency_dict):\n",
    "    \"\"\"\n",
    "    Sorts dictionary by values from high to low\n",
    "    Param: Dictionary with number values\n",
    "    Return: Sorted Dictionary values from high to low\n",
    "    \"\"\"\n",
    "    sorted_dict = {}\n",
    "    marklist = sorted(frequency_dict.items(), key=lambda x:x[1], reverse=True)\n",
    "    sort_dict = dict(marklist)\n",
    "    return sort_dict\n"
   ]
  },
  {
   "cell_type": "markdown",
   "metadata": {},
   "source": [
    "### Removing empty strings from the list"
   ]
  },
  {
   "cell_type": "code",
   "execution_count": 21,
   "metadata": {},
   "outputs": [],
   "source": [
    "no_space_list = []\n",
    "for string in clean_list:\n",
    "    if string != '':\n",
    "        no_space_list.append(string)        "
   ]
  },
  {
   "cell_type": "markdown",
   "metadata": {},
   "source": [
    "# Benchmarking value_counts vs. Frequency Dict creator\n",
    "\n",
    "### Seeing how long it takes to create a frequency count with a list"
   ]
  },
  {
   "cell_type": "code",
   "execution_count": 22,
   "metadata": {},
   "outputs": [
    {
     "name": "stdout",
     "output_type": "stream",
     "text": [
      "CPU times: user 1 µs, sys: 0 ns, total: 1 µs\n",
      "Wall time: 3.1 µs\n"
     ]
    }
   ],
   "source": [
    "%time        \n",
    "clean_dict = frequency_dict(no_space_list)"
   ]
  },
  {
   "cell_type": "markdown",
   "metadata": {},
   "source": [
    "### Seeing how long it takes the value_counts method to run"
   ]
  },
  {
   "cell_type": "code",
   "execution_count": 23,
   "metadata": {},
   "outputs": [
    {
     "name": "stdout",
     "output_type": "stream",
     "text": [
      "CPU times: user 1e+03 ns, sys: 0 ns, total: 1e+03 ns\n",
      "Wall time: 2.86 µs\n"
     ]
    },
    {
     "data": {
      "text/plain": [
       "a            166162\n",
       "chicken       19228\n",
       "cream         16053\n",
       "cheese        14009\n",
       "beef          13564\n",
       "              ...  \n",
       "internet          1\n",
       "swingline         1\n",
       "calmazine         1\n",
       "ws                1\n",
       "ctqx              1\n",
       "Name: Spell_checked, Length: 10565, dtype: int64"
      ]
     },
     "execution_count": 23,
     "metadata": {},
     "output_type": "execute_result"
    }
   ],
   "source": [
    "%time\n",
    "search_terms_df['Spell_checked'].value_counts()"
   ]
  },
  {
   "cell_type": "markdown",
   "metadata": {},
   "source": [
    "## Results\n",
    "### As one can see the run times between the two methods is basically the same. My method is just as efficient as the pandas method. My frequency count method took 11 microsecond to run and the pandas library took 11.2 microseconds to run. In the grand scheme of things this is basically the same and this little difference could be attributed to many outside factors."
   ]
  },
  {
   "cell_type": "code",
   "execution_count": 24,
   "metadata": {},
   "outputs": [],
   "source": [
    "spellchecked_dict = comparing_spellcheck_dict(clean_dict)\n",
    "\n",
    "spellchecked_and_cleaned_dict = sorting_the_dict(spellchecked_dict)"
   ]
  },
  {
   "cell_type": "code",
   "execution_count": 25,
   "metadata": {},
   "outputs": [
    {
     "name": "stdout",
     "output_type": "stream",
     "text": [
      "Total memory usage is : 80588785\n",
      "Memory usage of list: 48\n"
     ]
    }
   ],
   "source": [
    "import sys\n",
    "spellchecked_and_cleaned_list = spellchecked_and_cleaned_dict.keys()\n",
    "total_memory_usage = 0\n",
    "for word in search_terms:\n",
    "    total_memory_usage += sys.getsizeof(word)\n",
    "print(f'Total memory usage is : {total_memory_usage}')\n",
    "print(f'Memory usage of list: {sys.getsizeof(spellchecked_and_cleaned_list)}')\n"
   ]
  },
  {
   "cell_type": "code",
   "execution_count": 26,
   "metadata": {
    "scrolled": true
   },
   "outputs": [
    {
     "name": "stdout",
     "output_type": "stream",
     "text": [
      "memory usage of pandas dataframe: Index                 128\n",
      "SEARCH_TERMS     92340225\n",
      "NO_NUMS          91021346\n",
      "NO_PUNCT         91002679\n",
      "Spell_checked    91156167\n",
      "dtype: int64\n",
      "memory usage of pandas dataframe (Spell Checked) using sys.getsizeof: 91156295\n"
     ]
    }
   ],
   "source": [
    "print(f'memory usage of pandas dataframe: {search_terms_df.memory_usage(deep=True)}')\n",
    "series = search_terms_df['Spell_checked']\n",
    "total_memory_other_way = sum([sys.getsizeof(s) for s in series]) + series.memory_usage()\n",
    "print(f'memory usage of pandas dataframe (Spell Checked) using sys.getsizeof: {total_memory_other_way}')"
   ]
  },
  {
   "cell_type": "markdown",
   "metadata": {},
   "source": [
    "## Memory Usage\n",
    "### As one can see the memory usage of the list is amore efficient than the memory usage of the pandas dataframe. Since memory is quite cheap and doesn't really matter to much nowadays this is a tradeoff that is very much acceptable. \n",
    "## Pandas dataframe memory usage for Spell_checked column: 91156167 bytes (86.9333 megabytes)\n",
    "## List memory usage for spell_checked_list: 80588785  bytes (76.8555 megabytes)\n",
    "\n",
    "## Pandas dataframe uses 1.13 times more memory."
   ]
  },
  {
   "cell_type": "code",
   "execution_count": 27,
   "metadata": {},
   "outputs": [
    {
     "data": {
      "text/plain": [
       "1.1311272033695507"
      ]
     },
     "execution_count": 27,
     "metadata": {},
     "output_type": "execute_result"
    }
   ],
   "source": [
    "91156167 / 80588785"
   ]
  },
  {
   "cell_type": "markdown",
   "metadata": {},
   "source": [
    "# Advantages and disadvantages with pandas:\n",
    "\n",
    "Performance-wise pandas does a good job and can be as fast as lists and built in methods in python depending on what methods you use and how creative you get. Memory wise, pandas takes up more memory and is less efficient in this case, but knowing that memory is cheap and accessible this doesn't seem to be a big issue. Programming methods that use the apply method are very easy to use. It is very nice that pandas loops through the entire column for you without the programmer having to write extra code for that. If you can apply the method to one token than you are basically done and dopn't have to worry about it anymore. When doing the same process without pandas looping through lists and making sure you have the right indexes etc. can become cumbersome. "
   ]
  },
  {
   "cell_type": "code",
   "execution_count": null,
   "metadata": {},
   "outputs": [],
   "source": []
  }
 ],
 "metadata": {
  "kernelspec": {
   "display_name": "Python 3",
   "language": "python",
   "name": "python3"
  },
  "language_info": {
   "codemirror_mode": {
    "name": "ipython",
    "version": 3
   },
   "file_extension": ".py",
   "mimetype": "text/x-python",
   "name": "python",
   "nbconvert_exporter": "python",
   "pygments_lexer": "ipython3",
   "version": "3.6.9"
  }
 },
 "nbformat": 4,
 "nbformat_minor": 2
}
