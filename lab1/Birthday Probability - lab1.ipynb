{
 "cells": [
  {
   "cell_type": "markdown",
   "metadata": {},
   "source": [
    "# Birthday Probability"
   ]
  },
  {
   "cell_type": "markdown",
   "metadata": {},
   "source": [
    "The following cell generates a random birthday and is a helper function"
   ]
  },
  {
   "cell_type": "code",
   "execution_count": 1,
   "metadata": {},
   "outputs": [],
   "source": [
    "import random\n",
    "\"\"\"\n",
    "Generates a random birthday\n",
    "returns birthday\n",
    "\"\"\"\n",
    "def randomBirthday():\n",
    "    #group size\n",
    "    #number of tests\n",
    "    #return number of collisions\n",
    "    birthday = random.randint(1, 365)\n",
    "    return birthday\n",
    "    "
   ]
  },
  {
   "cell_type": "markdown",
   "metadata": {},
   "source": [
    "The following generates random birthdays for a number of people and returns a list."
   ]
  },
  {
   "cell_type": "code",
   "execution_count": 2,
   "metadata": {},
   "outputs": [],
   "source": [
    "\"\"\"\n",
    "Creates a list with numPeople random birthdays\n",
    "returns the list of all the random birthdays\n",
    "\"\"\"\n",
    "def runSimulation(numPeople):\n",
    "    birthdayList = []\n",
    "    for i in range(numPeople):\n",
    "        birthday = randomBirthday()\n",
    "        birthdayList.append(birthday)\n",
    "    return birthdayList"
   ]
  },
  {
   "cell_type": "markdown",
   "metadata": {},
   "source": [
    "The following cell checks to see whether or not there are any birthday collisions."
   ]
  },
  {
   "cell_type": "code",
   "execution_count": 3,
   "metadata": {},
   "outputs": [],
   "source": [
    "\"\"\"\n",
    "Takes the random birthday list and tells you how many collisions there were\n",
    "returns the list of collisions\n",
    "\"\"\"\n",
    "def find_repeat(birthdayList):\n",
    "    collisions = []\n",
    "    seen = set()\n",
    "    for birthday in birthdayList:\n",
    "        if birthday in seen:\n",
    "            collisions.append(birthday)\n",
    "        seen.add(birthday)\n",
    "    return collisions"
   ]
  },
  {
   "cell_type": "markdown",
   "metadata": {},
   "source": [
    "The following cell runs the experiment for a number of people and a number of times you want to run the experiment."
   ]
  },
  {
   "cell_type": "code",
   "execution_count": 4,
   "metadata": {},
   "outputs": [],
   "source": [
    "\"\"\"\n",
    "How many times do you want to run the experiment?\n",
    "How many people do you want in the experiment?\n",
    "How many times in the experiment did a collision occur\n",
    "This is the function that runs the entire experiment \n",
    "returns how many simulations had a collision\n",
    "\"\"\"\n",
    "\n",
    "def run_experiment(numPeople, numberOftimes):\n",
    "    num_simulations_with_collision = 0\n",
    "    for i in range(numberOftimes):\n",
    "        birthdayList = runSimulation(numPeople=numPeople)\n",
    "        collisions = find_repeat(birthdayList)\n",
    "        if len(collisions) != 0:\n",
    "            num_simulations_with_collision = num_simulations_with_collision + 1\n",
    "    return num_simulations_with_collision"
   ]
  },
  {
   "cell_type": "markdown",
   "metadata": {},
   "source": [
    "## Run Experiments here (Simply specify the number of people and the number of times you want to run the experiment)"
   ]
  },
  {
   "cell_type": "code",
   "execution_count": 5,
   "metadata": {},
   "outputs": [
    {
     "name": "stdout",
     "output_type": "stream",
     "text": [
      "The number of times a collision occured in your experiment is: 1125\n",
      "The probability of a group of size 10 having a common birthday is 11.25%\n",
      "CPU times: user 103 ms, sys: 3.66 ms, total: 107 ms\n",
      "Wall time: 106 ms\n"
     ]
    }
   ],
   "source": [
    "%%time\n",
    "numPeople = 10\n",
    "numberOfTimesToRun = 10000\n",
    "collisions = run_experiment(numPeople, numberOfTimesToRun)\n",
    "print(f'The number of times a collision occured in your experiment is: {collisions}')\n",
    "\n",
    "print(f'The probability of a group of size {numPeople} having a common birthday is {collisions/numberOfTimesToRun * 100}%')"
   ]
  },
  {
   "cell_type": "code",
   "execution_count": 7,
   "metadata": {},
   "outputs": [
    {
     "name": "stdout",
     "output_type": "stream",
     "text": [
      "The probability of a group of size 0 having a common birthday is 0.0%\n",
      "The probability of a group of size 1 having a common birthday is 0.0%\n",
      "The probability of a group of size 2 having a common birthday is 0.255%\n",
      "The probability of a group of size 3 having a common birthday is 0.8500000000000001%\n",
      "The probability of a group of size 4 having a common birthday is 1.593%\n",
      "The probability of a group of size 5 having a common birthday is 2.777%\n",
      "The probability of a group of size 6 having a common birthday is 4.122%\n",
      "The probability of a group of size 7 having a common birthday is 5.688%\n",
      "The probability of a group of size 8 having a common birthday is 7.364999999999999%\n",
      "The probability of a group of size 9 having a common birthday is 9.552%\n",
      "The probability of a group of size 10 having a common birthday is 11.647%\n",
      "The probability of a group of size 11 having a common birthday is 14.107%\n",
      "The probability of a group of size 12 having a common birthday is 16.605%\n",
      "The probability of a group of size 13 having a common birthday is 19.543%\n",
      "The probability of a group of size 14 having a common birthday is 22.416%\n",
      "The probability of a group of size 15 having a common birthday is 25.167%\n",
      "The probability of a group of size 16 having a common birthday is 28.392%\n",
      "The probability of a group of size 17 having a common birthday is 31.546000000000003%\n",
      "The probability of a group of size 18 having a common birthday is 34.725%\n",
      "The probability of a group of size 19 having a common birthday is 38.092%\n",
      "The probability of a group of size 20 having a common birthday is 41.028%\n",
      "The probability of a group of size 21 having a common birthday is 44.249%\n",
      "The probability of a group of size 22 having a common birthday is 47.669%\n",
      "The probability of a group of size 23 having a common birthday is 50.82%\n",
      "The probability of a group of size 24 having a common birthday is 53.791999999999994%\n",
      "The probability of a group of size 25 having a common birthday is 56.791000000000004%\n",
      "The probability of a group of size 26 having a common birthday is 59.814%\n",
      "The probability of a group of size 27 having a common birthday is 62.536%\n",
      "The probability of a group of size 28 having a common birthday is 65.40899999999999%\n",
      "The probability of a group of size 29 having a common birthday is 68.03099999999999%\n",
      "CPU times: user 44.4 s, sys: 0 ns, total: 44.4 s\n",
      "Wall time: 44.4 s\n"
     ]
    }
   ],
   "source": [
    "%%time\n",
    "\"\"\"\n",
    "What is the least number of people required to have a 50% likelihood of a birthday collision?\n",
    "\"\"\"\n",
    "numberOfTimesToRun = 100000\n",
    "for i in range(30):\n",
    "    collisions = run_experiment(i, numberOfTimesToRun)\n",
    "    print(f'The probability of a group of size {i} having a common birthday is {collisions/numberOfTimesToRun * 100}%')"
   ]
  },
  {
   "cell_type": "markdown",
   "metadata": {},
   "source": [
    "Time to run this big cell took 15.1 seconds."
   ]
  },
  {
   "cell_type": "code",
   "execution_count": null,
   "metadata": {},
   "outputs": [],
   "source": []
  }
 ],
 "metadata": {
  "kernelspec": {
   "display_name": "Python 3",
   "language": "python",
   "name": "python3"
  },
  "language_info": {
   "codemirror_mode": {
    "name": "ipython",
    "version": 3
   },
   "file_extension": ".py",
   "mimetype": "text/x-python",
   "name": "python",
   "nbconvert_exporter": "python",
   "pygments_lexer": "ipython3",
   "version": "3.7.3"
  }
 },
 "nbformat": 4,
 "nbformat_minor": 5
}
